{
 "cells": [
  {
   "cell_type": "markdown",
   "metadata": {},
   "source": [
    "# Final ML Project - Income Classification\n",
    "\n",
    "This notebook is dedicated to the final project of the [Machine Learning Challenge](https://radu-enuca.gitbook.io/ml-challenge/), organised by ING.\n",
    "\n",
    "The project is in the form of a Kaggle competition, where the notebook that you are currently reading serves as my final product that I will submit for the competition. More info about the kaggle competition can be found [here](https://www.kaggle.com/c/ml-challenge-week6).\n",
    "\n",
    "The competition concerns an income classification challenge. We are given two sets of data from the US census bureau database: a train set and a test set. The sets contain demographic and job related information about the US population in the years 1994 and 1995. The train set contains a column representing the income class (>50k, <50k), but the test set has not. It is our task to predict the income classes of all the records in the test set. The predictions submitted to the kaggle competition are going to be evaluated based on the [Area Under the Curve (AUC) of the ROC](https://en.wikipedia.org/wiki/Receiver_operating_characteristic#Area_under_the_curve).\n",
    "\n",
    "Our analysis will be organised as follows:\n",
    "1. Loading the data\n",
    "2. Exploratory analysis\n",
    "3. Data preprocessing\n",
    "4. Model fitting\n",
    "5. Final predictions"
   ]
  },
  {
   "cell_type": "markdown",
   "metadata": {},
   "source": [
    "## 1. Loading the data"
   ]
  },
  {
   "cell_type": "code",
   "execution_count": 5,
   "metadata": {},
   "outputs": [],
   "source": [
    "# First we import our packages, in descending order of their length (OCD)\n",
    "from sklearn.ensemble import GradientBoostingClassifier\n",
    "from sklearn.model_selection import RandomizedSearchCV\n",
    "from sklearn.model_selection import train_test_split\n",
    "from sklearn.model_selection import cross_val_score\n",
    "from sklearn.linear_model import LogisticRegression\n",
    "from sklearn.ensemble import RandomForestClassifier\n",
    "from sklearn.neighbors import KNeighborsClassifier\n",
    "from sklearn.ensemble import RandomForestRegressor\n",
    "from sklearn.metrics import classification_report\n",
    "from sklearn.feature_selection import SelectKBest\n",
    "from sklearn.model_selection import GridSearchCV\n",
    "from sklearn.preprocessing import StandardScaler\n",
    "from sklearn.preprocessing import OneHotEncoder\n",
    "from sklearn.feature_selection import f_classif\n",
    "from sklearn.preprocessing import LabelEncoder\n",
    "from sklearn.tree import DecisionTreeRegressor\n",
    "from sklearn.compose import ColumnTransformer\n",
    "from sklearn.naive_bayes import GaussianNB\n",
    "from sklearn.feature_selection import chi2\n",
    "from sklearn.metrics import roc_auc_score\n",
    "from sklearn.impute import SimpleImputer\n",
    "from sklearn.pipeline import Pipeline\n",
    "from sklearn.decomposition import PCA\n",
    "from xgboost import plot_importance\n",
    "from xgboost import XGBClassifier\n",
    "import matplotlib.pyplot as plt\n",
    "from scipy.stats import uniform\n",
    "from sklearn import svm\n",
    "import seaborn as sns\n",
    "import pandas as pd\n",
    "import numpy as np"
   ]
  },
  {
   "cell_type": "markdown",
   "metadata": {},
   "source": [
    "If you are running this on Google Colab and you have access to the kaggle challenge, you can submit your Kaggle API key and load the data into the Google Colab session."
   ]
  },
  {
   "cell_type": "markdown",
   "metadata": {},
   "source": [
    "By inspecting the data a little bit in it's raw format, we observe a few things:\n",
    "The data in the file is separated by a comma, sometimes followed by or starting with some whitespaces. To allow for the whitespaces, we use a regular expression as a separator: ' \\*, \\*' (an asterisk indicates zero or more occurrences of the preceding element). It appears that missing values are represented by a '?' (and 'Do not know' in one particular column), so we need to tell python to interpret these values as missing. We also see the value \"Not in universe\" a lot, but I'm not yet sure what to do with this as it has a different meaning compared to a missing value. So we leave it in for now. (See https://cps.ipums.org/cps-action/faq#ques8). Also, we are able to retrieve a full list of the column names from the file census-income.names:"
   ]
  },
  {
   "cell_type": "code",
   "execution_count": 17,
   "metadata": {},
   "outputs": [
    {
     "name": "stdout",
     "output_type": "stream",
     "text": [
      "(199523, 41)\n",
      "<class 'pandas.core.frame.DataFrame'>\n",
      "RangeIndex: 199523 entries, 0 to 199522\n",
      "Data columns (total 41 columns):\n",
      " #   Column                                      Non-Null Count   Dtype \n",
      "---  ------                                      --------------   ----- \n",
      " 0   age                                         199523 non-null  int64 \n",
      " 1   class of worker                             199523 non-null  object\n",
      " 2   detailed industry recode                    199523 non-null  int64 \n",
      " 3   detailed occupation recode                  199523 non-null  int64 \n",
      " 4   education                                   199523 non-null  object\n",
      " 5   wage per hour                               199523 non-null  int64 \n",
      " 6   enroll in edu inst last wk                  199523 non-null  object\n",
      " 7   marital stat                                199523 non-null  object\n",
      " 8   major industry code                         199523 non-null  object\n",
      " 9   major occupation code                       199523 non-null  object\n",
      " 10  race                                        199523 non-null  object\n",
      " 11  hispanic origin                             198343 non-null  object\n",
      " 12  sex                                         199523 non-null  object\n",
      " 13  member of a labor union                     199523 non-null  object\n",
      " 14  reason for unemployment                     199523 non-null  object\n",
      " 15  full or part time employment stat           199523 non-null  object\n",
      " 16  capital gains                               199523 non-null  int64 \n",
      " 17  capital losses                              199523 non-null  int64 \n",
      " 18  dividends from stocks                       199523 non-null  int64 \n",
      " 19  tax filer stat                              199523 non-null  object\n",
      " 20  region of previous residence                199523 non-null  object\n",
      " 21  state of previous residence                 198815 non-null  object\n",
      " 22  detailed household and family stat          199523 non-null  object\n",
      " 23  detailed household summary in household     199523 non-null  object\n",
      " 24  migration code-change in msa                99827 non-null   object\n",
      " 25  migration code-change in reg                99827 non-null   object\n",
      " 26  migration code-move within reg              99827 non-null   object\n",
      " 27  live in this house 1 year ago               199523 non-null  object\n",
      " 28  migration prev res in sunbelt               99827 non-null   object\n",
      " 29  num persons worked for employer             199523 non-null  int64 \n",
      " 30  family members under 18                     199523 non-null  object\n",
      " 31  country of birth father                     192810 non-null  object\n",
      " 32  country of birth mother                     193404 non-null  object\n",
      " 33  country of birth self                       196130 non-null  object\n",
      " 34  citizenship                                 199523 non-null  object\n",
      " 35  own business or self employed               199523 non-null  int64 \n",
      " 36  fill inc questionnaire for veteran's admin  199523 non-null  object\n",
      " 37  veterans benefits                           199523 non-null  int64 \n",
      " 38  weeks worked in year                        199523 non-null  int64 \n",
      " 39  year                                        199523 non-null  int64 \n",
      " 40  income                                      199523 non-null  object\n",
      "dtypes: int64(12), object(29)\n",
      "memory usage: 62.4+ MB\n"
     ]
    }
   ],
   "source": [
    "# Read in the data\n",
    "census = pd.read_csv('ml-challenge-week6/census-income.data',\n",
    "                     sep=' *, *',\n",
    "                     header=None,\n",
    "                     na_values=['?', 'Do not know'],\n",
    "                     engine='python')\n",
    "\n",
    "colnames_read = pd.read_csv('ml-challenge-week6/census-income.names',\n",
    "                            sep=' *: *',\n",
    "                            header=None,\n",
    "                            skiprows=141,\n",
    "                            usecols=[0], engine='python')\n",
    "colnames = colnames_read.drop([24]).append(['income'], ignore_index=True).values.ravel()\n",
    "census.columns = colnames\n",
    "# The column 'instance weight' is not a feature, but it shows how many people in the sample this record represents due\n",
    "# to stratified sampling. We don't need it for modelling so we drop it immediately.\n",
    "census = census.drop(columns='instance weight')\n",
    "print(census.shape)\n",
    "census.info()"
   ]
  },
  {
   "cell_type": "markdown",
   "metadata": {},
   "source": [
    "Cool! The dataset contains our target variable (which we named income) and 40 features. For a model, 40 features is probably a bit of an overkill, so let's see how much is actually useful to us. From the table above we can already see that we have both numeric and categorical variables. In total we have 199.523 observations and all our numerical variables are completely filled (so no null values). \n",
    "\n",
    "Unfortunately this doesn't seem to be the case for our categorical variables. Especially the migration variables seem\n",
    "to be missing a lot of observations, so we will probably get rid of them."
   ]
  },
  {
   "cell_type": "markdown",
   "metadata": {},
   "source": [
    "## 2. Exploratory analysis\n",
    "\n",
    "Luckily our variable of interest does not have any missing values. Let's quickly check it's distribution:"
   ]
  },
  {
   "cell_type": "code",
   "execution_count": 18,
   "metadata": {},
   "outputs": [
    {
     "data": {
      "text/plain": [
       "- 50000.    187141\n",
       "50000+.      12382\n",
       "Name: income, dtype: int64"
      ]
     },
     "execution_count": 18,
     "metadata": {},
     "output_type": "execute_result"
    },
    {
     "data": {
      "image/png": "[encoded data removed]",
      "text/plain": [
       "<Figure size 360x360 with 1 Axes>"
      ]
     },
     "metadata": {
      "needs_background": "light"
     },
     "output_type": "display_data"
    }
   ],
   "source": [
    "sns.catplot(x=\"income\", kind=\"count\", color='steelblue', data=census)\n",
    "census['income'].value_counts()"
   ]
  },
  {
   "cell_type": "markdown",
   "metadata": {},
   "source": [
    "So only about **7%** of our sample has an income class >50k. For modelling purposes we might consider balancing our\n",
    "sample, but we will come to that later. First, let's go through some of our features to get a better understanding\n",
    "of what we are dealing with. As we have quite a lot of variables in our dataset, we will first focus on a few\n",
    "promising ones."
   ]
  },
  {
   "cell_type": "code",
   "execution_count": 19,
   "metadata": {},
   "outputs": [
    {
     "data": {
      "image/png": "[encoded data removed]",
      "text/plain": [
       "<Figure size 504x360 with 1 Axes>"
      ]
     },
     "metadata": {
      "needs_background": "light"
     },
     "output_type": "display_data"
    }
   ],
   "source": [
    "plt.figure(figsize=(7, 5))\n",
    "census['age'].hist(bins=30, color='steelblue')\n",
    "plt.title('Age distribution')\n",
    "plt.show()"
   ]
  },
  {
   "cell_type": "markdown",
   "metadata": {},
   "source": [
    "Interesting! It looks like we have a sample of the whole population, including children.\n",
    "Children from a certain age are not allowed in the workplace by federal child labor law."
   ]
  },
  {
   "cell_type": "code",
   "execution_count": 20,
   "metadata": {},
   "outputs": [
    {
     "data": {
      "text/html": [
       "<div>\n",
       "<style scoped>\n",
       "    .dataframe tbody tr th:only-of-type {\n",
       "        vertical-align: middle;\n",
       "    }\n",
       "\n",
       "    .dataframe tbody tr th {\n",
       "        vertical-align: top;\n",
       "    }\n",
       "\n",
       "    .dataframe thead th {\n",
       "        text-align: right;\n",
       "    }\n",
       "</style>\n",
       "<table border=\"1\" class=\"dataframe\">\n",
       "  <thead>\n",
       "    <tr style=\"text-align: right;\">\n",
       "      <th></th>\n",
       "      <th>age</th>\n",
       "    </tr>\n",
       "  </thead>\n",
       "  <tbody>\n",
       "    <tr>\n",
       "      <th>count</th>\n",
       "      <td>12382.000000</td>\n",
       "    </tr>\n",
       "    <tr>\n",
       "      <th>mean</th>\n",
       "      <td>46.266193</td>\n",
       "    </tr>\n",
       "    <tr>\n",
       "      <th>std</th>\n",
       "      <td>11.830906</td>\n",
       "    </tr>\n",
       "    <tr>\n",
       "      <th>min</th>\n",
       "      <td>16.000000</td>\n",
       "    </tr>\n",
       "    <tr>\n",
       "      <th>25%</th>\n",
       "      <td>38.000000</td>\n",
       "    </tr>\n",
       "    <tr>\n",
       "      <th>50%</th>\n",
       "      <td>45.000000</td>\n",
       "    </tr>\n",
       "    <tr>\n",
       "      <th>75%</th>\n",
       "      <td>53.000000</td>\n",
       "    </tr>\n",
       "    <tr>\n",
       "      <th>max</th>\n",
       "      <td>90.000000</td>\n",
       "    </tr>\n",
       "  </tbody>\n",
       "</table>\n",
       "</div>"
      ],
      "text/plain": [
       "                age\n",
       "count  12382.000000\n",
       "mean      46.266193\n",
       "std       11.830906\n",
       "min       16.000000\n",
       "25%       38.000000\n",
       "50%       45.000000\n",
       "75%       53.000000\n",
       "max       90.000000"
      ]
     },
     "execution_count": 20,
     "metadata": {},
     "output_type": "execute_result"
    }
   ],
   "source": [
    "census[census['income'] == '50000+.'].loc[:, ['age']].describe()"
   ]
  },
  {
   "cell_type": "markdown",
   "metadata": {},
   "source": [
    "Indeed, the minimum age of someone who earns more than 50k is 16. We might choose to exclude these children from our\n",
    "model, as we know with certainty that they fall in the lower income class. However, I think it's nice to see whether\n",
    "our model will be able to pick this up. So we are going to use it to check our final predictions.\n",
    "\n",
    "Let's quickly plot a few of our numeric variables against each other. However, as we have quite a lot of data this is computationally intensive. To this end, we create a subsample, which we only use for exploratory analysis"
   ]
  },
  {
   "cell_type": "code",
   "execution_count": 21,
   "metadata": {},
   "outputs": [
    {
     "data": {
      "text/plain": [
       "<seaborn.axisgrid.PairGrid at 0x1b122f28400>"
      ]
     },
     "execution_count": 21,
     "metadata": {},
     "output_type": "execute_result"
    },
    {
     "data": {
      "image/png": "[encoded data removed]",
      "text/plain": [
       "<Figure size 648x648 with 12 Axes>"
      ]
     },
     "metadata": {
      "needs_background": "light"
     },
     "output_type": "display_data"
    }
   ],
   "source": [
    "rand_sample = census.sample(n=10000, random_state=24)\n",
    "\n",
    "sns.pairplot(rand_sample[['age', 'wage per hour', 'weeks worked in year']],\n",
    "             kind=\"scatter\",\n",
    "             plot_kws={'alpha': 0.2},\n",
    "             height=3,\n",
    "             aspect=1)"
   ]
  },
  {
   "cell_type": "markdown",
   "metadata": {},
   "source": [
    "Moreover, the variables 'capital losses', 'capital gains' and 'dividends from stocks' might directly say something about the income of a person (depending oon the definition of income), so let's look at those variables:"
   ]
  },
  {
   "cell_type": "code",
   "execution_count": 22,
   "metadata": {},
   "outputs": [
    {
     "data": {
      "text/plain": [
       "<seaborn.axisgrid.PairGrid at 0x1b103b71730>"
      ]
     },
     "execution_count": 22,
     "metadata": {},
     "output_type": "execute_result"
    },
    {
     "data": {
      "image/png": "[encoded data removed]",
      "text/plain": [
       "<Figure size 648x648 with 12 Axes>"
      ]
     },
     "metadata": {
      "needs_background": "light"
     },
     "output_type": "display_data"
    }
   ],
   "source": [
    "sns.pairplot(rand_sample[['capital losses', 'capital gains', 'dividends from stocks']],\n",
    "             kind=\"scatter\",\n",
    "             plot_kws={'alpha': 0.2},\n",
    "             height=3,\n",
    "             aspect=1)"
   ]
  },
  {
   "cell_type": "markdown",
   "metadata": {},
   "source": [
    "It looks like 'capital gains' and 'dividends from stocks' are topcoded or something. Actually I like to further inspect this with all the data:"
   ]
  },
  {
   "cell_type": "code",
   "execution_count": 23,
   "metadata": {},
   "outputs": [
    {
     "data": {
      "image/png": "[encoded data removed]",
      "text/plain": [
       "<Figure size 504x360 with 1 Axes>"
      ]
     },
     "metadata": {
      "needs_background": "light"
     },
     "output_type": "display_data"
    }
   ],
   "source": [
    "plt.figure(figsize=(7, 5))\n",
    "sns.scatterplot(census['capital gains'],\n",
    "                census['dividends from stocks'],\n",
    "                hue=census['income'],\n",
    "                alpha=0.3)\n",
    "plt.title('capital gains against dividends by income class')\n",
    "plt.show()"
   ]
  },
  {
   "cell_type": "markdown",
   "metadata": {},
   "source": [
    "The first thing that we notice from this figure is that for capital gains the value 99999 occurs quite frequently, even though there are no instances before that until roughly 40,000. So this suggests that the value 99999 has a special meaning. Indeed, this value is equivalent to \"Not in Universe\", as can be found from the [Current Population Survey](https://cps.ipums.org/cps-action/variables/CAPGAIN#codes_section), where the data is extracted from. We don't want to keep these values, as it messes with the distribution, so we will probably replace these values with the median value. It is however curious that almost all of them fall in the income class >50k, but that must be due to another reason. Perhaps our model will be able to explain that:)"
   ]
  },
  {
   "cell_type": "markdown",
   "metadata": {},
   "source": [
    "The column 'dividends from stocks' also has a max value of 99999, but here the data is actually topcoded (censured from above) and we decide to keep it as is (found [here](https://cps.ipums.org/cps/topcodes_tables.shtml))."
   ]
  },
  {
   "cell_type": "markdown",
   "metadata": {},
   "source": [
    "There are a few variables that actually say something about the type of work that someone is doing."
   ]
  },
  {
   "cell_type": "code",
   "execution_count": 24,
   "metadata": {},
   "outputs": [
    {
     "data": {
      "text/plain": [
       "<matplotlib.axes._subplots.AxesSubplot at 0x1b17d0897c0>"
      ]
     },
     "execution_count": 24,
     "metadata": {},
     "output_type": "execute_result"
    },
    {
     "data": {
      "image/png": "[encoded data removed]",
      "text/plain": [
       "<Figure size 432x288 with 1 Axes>"
      ]
     },
     "metadata": {
      "needs_background": "light"
     },
     "output_type": "display_data"
    }
   ],
   "source": [
    "sns.countplot(y='major occupation code', hue='income', data=census)"
   ]
  },
  {
   "cell_type": "code",
   "execution_count": 25,
   "metadata": {},
   "outputs": [
    {
     "data": {
      "text/plain": [
       "<seaborn.axisgrid.FacetGrid at 0x1b10cec57f0>"
      ]
     },
     "execution_count": 25,
     "metadata": {},
     "output_type": "execute_result"
    },
    {
     "data": {
      "image/png": "[encoded data removed]",
      "text/plain": [
       "<Figure size 1159.5x360 with 1 Axes>"
      ]
     },
     "metadata": {
      "needs_background": "light"
     },
     "output_type": "display_data"
    }
   ],
   "source": [
    "sns.catplot(x='detailed occupation recode',\n",
    "            y='major occupation code',\n",
    "            data=census[census['age'] >= 16],\n",
    "            hue='income',\n",
    "            alpha=0.3,\n",
    "            height=5,\n",
    "            aspect=3)"
   ]
  },
  {
   "cell_type": "markdown",
   "metadata": {},
   "source": [
    "From this plot we can see that major occupation code is actually a grouping of 'detailed occupation recode'. So we will not include them both in our model, as they are highly correlated. In the same way, major industry code is a grouping of detailed industry recode. So we are not going to include them both in our model, but we might transform them into dummies and select a few on them based on some criteria (like chi squared test)."
   ]
  },
  {
   "cell_type": "markdown",
   "metadata": {},
   "source": [
    "## Data preprocessing\n",
    "\n",
    "Normally, this is the point where we would split our data in a train and test set, where we would not touch our test set until we selected our final model. However, in this case we already have our test set, namely the one for which we need to predict the income class. However, to test our model parameters we need a train/validation split as well. We will validate our result through Kfold cross-validation, using the AUC of the ROC as our score (as this will be the performance measure for the kaggle competition). The 'cross_val_score' function from sklearn.model_selection only allows (to my knowledge) for the roc_auc based on the predicted probabilities and not based on the predicted values (0 or 1). It would be nice to do a cross validation based on the predicted values, as this would be the reflect the performance measure of the kaggle challenge the most. Luckily we learned to write our own functions in the first week of the MLC, so let's put this in practice:"
   ]
  },
  {
   "cell_type": "code",
   "execution_count": 62,
   "metadata": {},
   "outputs": [],
   "source": [
    "def cv_kaggle(model, x, y, cv, state):\n",
    "    \"\"\"\n",
    "    This function performs a cross-validation of a specific model and returns an array of roc_auc scores.\n",
    "    The roc_auc values are calculated based on the predicted values and not the predicted probabilities.\n",
    "    It splits the sample in a train and validation set for a specified (cv) number of times. Each sample will\n",
    "    be in a validation set exactly once.\n",
    "\n",
    "    :param model: statistical model to be validated\n",
    "    :param x: DataFrame with features\n",
    "    :param y: DataFrame with target variable\n",
    "    :param cv: integer specifying the number of k-fold cross validation\n",
    "    :param state:\n",
    "    :return: array with all the roc_auc scores of each split\n",
    "    \"\"\"\n",
    "\n",
    "    # First shuffle the dataset, because the input dataset might be sorted (for instance, as a result of balancing)\n",
    "    reshuffle_all = x.join(y).sample(frac=1, random_state=state).reset_index(drop=True)\n",
    "    x = reshuffle_all.iloc[:, :-1]\n",
    "    y = reshuffle_all.iloc[:, -1]\n",
    "\n",
    "    result = [None] * cv\n",
    "    max_row = x.shape[0] - 1\n",
    "    low = 0\n",
    "    high = round(max_row / cv)\n",
    "    for i in range(cv):\n",
    "        test = range(low, high)\n",
    "        x_loop_train, x_loop_test, y_loop_train, y_loop_test = x.drop(test), x.iloc[test], y.drop(test), y.iloc[test]\n",
    "        model.fit(x_loop_train, y_loop_train.values.ravel())\n",
    "        y_loop_pred = np.round(model.predict(x_loop_test))\n",
    "        result[i] = roc_auc_score(y_loop_test, y_loop_pred)\n",
    "        low = high\n",
    "        high = round(max_row / cv * (i + 2))\n",
    "    return result\n"
   ]
  },
  {
   "cell_type": "markdown",
   "metadata": {},
   "source": [
    "Using the function above we are going to test the models that we are going to fit during the next part of our analysis. But first we have to:\n",
    "- Preprocess our data so that it can be used in our models, and\n",
    "- Decide which features to include in our model. "
   ]
  },
  {
   "cell_type": "code",
   "execution_count": 29,
   "metadata": {},
   "outputs": [],
   "source": [
    "# First, encode our income variable into a binary 0/1 variable instead of having string values\n",
    "enc_income = LabelEncoder()\n",
    "census.loc[:, ['income']] = enc_income.fit_transform(census['income'])\n",
    "\n",
    "#Let's seperate our data into features and label:\n",
    "X = census.drop(columns=['income'])\n",
    "y = pd.DataFrame(census['income'])"
   ]
  },
  {
   "cell_type": "markdown",
   "metadata": {},
   "source": [
    "Now, the following code is the result of an iterative process of including and excluding the variables and see whether the model performance improved. Here we experimented with different treatments of missing values and the value \"Not in universe\". As a result we decided to drop the following columns, where the reason for it is written behind the column name."
   ]
  },
  {
   "cell_type": "code",
   "execution_count": 30,
   "metadata": {},
   "outputs": [],
   "source": [
    "drop_columns = ['migration code-change in msa',  # Too many missing\n",
    "                'migration code-change in reg',  # Too many missing\n",
    "                'migration code-move within reg',  # Too many missing\n",
    "                'migration prev res in sunbelt',  # Too many missing\n",
    "                'detailed occupation recode',  # Already used on grouped level\n",
    "                'detailed industry recode',  # Already used on grouped level\n",
    "                'enroll in edu inst last wk',  # Too many in \"Not in universe\"\n",
    "                'member of a labor union',  # Too many in \"Not in Universe\"\n",
    "                'reason for unemployment',  # Too many in \"Not in Universe\"\n",
    "                'region of previous residence',  # Too many in \"Not in Universe\"\n",
    "                'state of previous residence',  # Too many in \"Not in Universe\"\n",
    "                'detailed household and family stat',  # Too many categories/detail, we use higher level summary\n",
    "                'family members under 18',  # Too many in \"Not in Universe\"\n",
    "                \"fill inc questionnaire for veteran's admin\"]  # Too many in \"Not in Universe\"\n",
    "\n",
    "X = X.drop(columns=drop_columns)"
   ]
  },
  {
   "cell_type": "markdown",
   "metadata": {},
   "source": [
    "Now, for the categorical variables that are still in our dataset and have some missing numbers, we decided to replace the missing values with the most frequent number. The 'most_frequent' strategy of the SimpleImputer transformer of sklearn actually seemed a bit slow. So to this end we will write our own functions that we can apply later to our test set as well. This is probably not the most elegant way to do it, but it works for now."
   ]
  },
  {
   "cell_type": "code",
   "execution_count": 31,
   "metadata": {},
   "outputs": [],
   "source": [
    "# get the modes for the ones that we are going to fill\n",
    "mode_hisp = X['hispanic origin'].value_counts().index[0]\n",
    "mode_birth_self = X['country of birth self'].value_counts().index[0]\n",
    "mode_birth_mom = X['country of birth mother'].value_counts().index[0]\n",
    "mode_birth_dad = X['country of birth father'].value_counts().index[0]\n",
    "\n",
    "\n",
    "def fill_na_cats(x):\n",
    "    x.loc[:, ['hispanic origin']] = x['hispanic origin'].fillna(mode_hisp)\n",
    "    x.loc[:, ['country of birth self']] = x['country of birth self'].fillna(mode_birth_self)\n",
    "    x.loc[:, ['country of birth mother']] = x['country of birth mother'].fillna(mode_birth_mom)\n",
    "    x.loc[:, ['country of birth father']] = x['country of birth father'].fillna(mode_birth_dad)\n",
    "    return x"
   ]
  },
  {
   "cell_type": "markdown",
   "metadata": {},
   "source": [
    "Next, we will experiment with grouping some of our values in our categorical variables, to reduce the number of dummies that we are going to produce. We again do this with a function (if we had more time, we would probably try to do this with a transformer object as well, which would work well with the pipelines that we are going to create later on)"
   ]
  },
  {
   "cell_type": "code",
   "execution_count": 32,
   "metadata": {},
   "outputs": [],
   "source": [
    "class DefaultZero(dict):\n",
    "    def __missing__(self, key):\n",
    "        return 0\n",
    "\n",
    "\n",
    "def group_cats(x):\n",
    "    x['education'] = x['education'] \\\n",
    "        .replace(to_replace='.*grade.*', value='Still in high school', regex=True) \\\n",
    "        .replace(to_replace='.*Associates degree.*', value='Some college', regex=True) \\\n",
    "        .replace(to_replace='Some college but no degree', value='Some college', regex=True)\n",
    "\n",
    "    map_race = {\n",
    "        'White': 1,\n",
    "        'Black': 0,\n",
    "        'Asian or Pacific Islander': 0,\n",
    "        'Other': 0,\n",
    "        'Amer Indian Aleut or Eskimo': 0\n",
    "    }\n",
    "\n",
    "    x['race'] = x['race'].map(map_race)\n",
    "\n",
    "    map_hisp = {\n",
    "        'All other': 0,\n",
    "        'Mexican (Mexicano)': 1,\n",
    "        'Mexican-American': 1,\n",
    "        'Puerto Rican': 1,\n",
    "        'Central or South American': 1,\n",
    "        'Other Spanish': 1,\n",
    "        'Chicano': 1,\n",
    "        'Cuban': 1\n",
    "    }\n",
    "    x['hispanic origin'] = x['hispanic origin'].map(map_hisp)\n",
    "\n",
    "    map_birth = DefaultZero({'United-States': 1})\n",
    "    x['country of birth self'] = x['country of birth self'].map(map_birth)\n",
    "    x['country of birth father'] = x['country of birth father'].map(map_birth)\n",
    "    x['country of birth mother'] = x['country of birth mother'].map(map_birth)\n",
    "    return x"
   ]
  },
  {
   "cell_type": "markdown",
   "metadata": {},
   "source": [
    "Now apply our functions to the dataset:"
   ]
  },
  {
   "cell_type": "code",
   "execution_count": 33,
   "metadata": {},
   "outputs": [],
   "source": [
    "X = fill_na_cats(X)\n",
    "X = group_cats(X)"
   ]
  },
  {
   "cell_type": "markdown",
   "metadata": {},
   "source": [
    "Next, we are going to create a pipeline for the rest of our transformations.\n",
    "We start with our 6 numerical variables. We are going to use SimpleImputer to replace our 99999 values in 'capital gains' with the median value (as discussed in the previous section). Next, we are going to standardize all our numerical values with the StandardScalar. For some models (among which the logit model) this resulted in a better performance."
   ]
  },
  {
   "cell_type": "code",
   "execution_count": 34,
   "metadata": {},
   "outputs": [],
   "source": [
    "var_num = ['age',\n",
    "           'wage per hour',\n",
    "           'capital gains',\n",
    "           'capital losses',\n",
    "           'dividends from stocks',\n",
    "           'weeks worked in year']\n",
    "\n",
    "var_cat = X.drop(columns=var_num).columns.values.tolist()\n",
    "\n",
    "NumImputer = ColumnTransformer([\n",
    "    (\"gains_imputer\", SimpleImputer(missing_values=99999, strategy='median'), ['capital gains'])\n",
    "], remainder=SimpleImputer(strategy='median'))\n",
    "\n",
    "num_pipeline = Pipeline([\n",
    "    ('imputer', NumImputer),\n",
    "    ('std_scaler', StandardScaler()),\n",
    "])\n"
   ]
  },
  {
   "cell_type": "markdown",
   "metadata": {},
   "source": [
    "In the same way we are going to add our categorical variables to the pipeline, using OneHotEncoder:"
   ]
  },
  {
   "cell_type": "code",
   "execution_count": 35,
   "metadata": {},
   "outputs": [],
   "source": [
    "var_cat_label = ['sex',\n",
    "                 'race',\n",
    "                 'hispanic origin',\n",
    "                 'country of birth self',\n",
    "                 'country of birth father',\n",
    "                 'country of birth mother',\n",
    "                 'year']\n",
    "\n",
    "var_cat_onehot = X.drop(columns=var_num).drop(columns=var_cat_label).columns.values\n",
    "\n",
    "full_pipeline = ColumnTransformer([\n",
    "    (\"num\", num_pipeline, var_num),\n",
    "    (\"cat\", OneHotEncoder(sparse=False), var_cat_onehot),\n",
    "    (\"sex\", OneHotEncoder(drop='first', sparse=False), var_cat_label)\n",
    "])\n"
   ]
  },
  {
   "cell_type": "markdown",
   "metadata": {},
   "source": [
    "Now that we created our pipeline, we apply it to our dataset:"
   ]
  },
  {
   "cell_type": "code",
   "execution_count": 36,
   "metadata": {},
   "outputs": [],
   "source": [
    "X = pd.DataFrame(full_pipeline.fit_transform(X))"
   ]
  },
  {
   "cell_type": "markdown",
   "metadata": {},
   "source": [
    "As a final step in our feature selection procedure, we are going to do some univariate analysis in the form of an annova test for our numerical values and a chi-squared test for our categorical values."
   ]
  },
  {
   "cell_type": "code",
   "execution_count": 37,
   "metadata": {},
   "outputs": [],
   "source": [
    "def univariate_test(x_data, y_data, score, k):\n",
    "    fs = SelectKBest(score_func=score, k=k)\n",
    "    fs.fit(x_data, y_data)\n",
    "    df_scores = pd.DataFrame(fs.scores_)\n",
    "    df_pvalues = pd.DataFrame(fs.pvalues_)\n",
    "    df_columns = pd.DataFrame(x_data.columns)\n",
    "    df_fs = pd.concat([df_columns, df_scores, df_pvalues], axis=1)\n",
    "    df_fs.columns = ['Specs', 'Score', 'p-value']\n",
    "    df_fs_sort = df_fs.sort_values('Score', ascending=False).reset_index(drop=True)\n",
    "    return df_fs_sort\n",
    "\n",
    "\n",
    "fs_num = univariate_test(X.iloc[:, 0:6], y.values.ravel(), score=f_classif, k='all')\n",
    "fs_cat = univariate_test(X.iloc[:, 6:], y.values.ravel(), score=chi2, k='all')"
   ]
  },
  {
   "cell_type": "code",
   "execution_count": 41,
   "metadata": {},
   "outputs": [
    {
     "data": {
      "text/html": [
       "<div>\n",
       "<style scoped>\n",
       "    .dataframe tbody tr th:only-of-type {\n",
       "        vertical-align: middle;\n",
       "    }\n",
       "\n",
       "    .dataframe tbody tr th {\n",
       "        vertical-align: top;\n",
       "    }\n",
       "\n",
       "    .dataframe thead th {\n",
       "        text-align: right;\n",
       "    }\n",
       "</style>\n",
       "<table border=\"1\" class=\"dataframe\">\n",
       "  <thead>\n",
       "    <tr style=\"text-align: right;\">\n",
       "      <th></th>\n",
       "      <th>Specs</th>\n",
       "      <th>Score</th>\n",
       "      <th>p-value</th>\n",
       "    </tr>\n",
       "  </thead>\n",
       "  <tbody>\n",
       "    <tr>\n",
       "      <th>0</th>\n",
       "      <td>0</td>\n",
       "      <td>17832.231168</td>\n",
       "      <td>0.000000e+00</td>\n",
       "    </tr>\n",
       "    <tr>\n",
       "      <th>1</th>\n",
       "      <td>5</td>\n",
       "      <td>14743.486908</td>\n",
       "      <td>0.000000e+00</td>\n",
       "    </tr>\n",
       "    <tr>\n",
       "      <th>2</th>\n",
       "      <td>4</td>\n",
       "      <td>6361.441754</td>\n",
       "      <td>0.000000e+00</td>\n",
       "    </tr>\n",
       "    <tr>\n",
       "      <th>3</th>\n",
       "      <td>3</td>\n",
       "      <td>4432.270493</td>\n",
       "      <td>0.000000e+00</td>\n",
       "    </tr>\n",
       "    <tr>\n",
       "      <th>4</th>\n",
       "      <td>1</td>\n",
       "      <td>3744.148261</td>\n",
       "      <td>0.000000e+00</td>\n",
       "    </tr>\n",
       "    <tr>\n",
       "      <th>5</th>\n",
       "      <td>2</td>\n",
       "      <td>120.110687</td>\n",
       "      <td>6.093672e-28</td>\n",
       "    </tr>\n",
       "  </tbody>\n",
       "</table>\n",
       "</div>"
      ],
      "text/plain": [
       "   Specs         Score       p-value\n",
       "0      0  17832.231168  0.000000e+00\n",
       "1      5  14743.486908  0.000000e+00\n",
       "2      4   6361.441754  0.000000e+00\n",
       "3      3   4432.270493  0.000000e+00\n",
       "4      1   3744.148261  0.000000e+00\n",
       "5      2    120.110687  6.093672e-28"
      ]
     },
     "execution_count": 41,
     "metadata": {},
     "output_type": "execute_result"
    }
   ],
   "source": [
    "fs_num"
   ]
  },
  {
   "cell_type": "markdown",
   "metadata": {},
   "source": [
    "All of the numeric features have a statistically significant effect, so we leave them in our model"
   ]
  },
  {
   "cell_type": "code",
   "execution_count": 44,
   "metadata": {},
   "outputs": [
    {
     "data": {
      "text/html": [
       "<div>\n",
       "<style scoped>\n",
       "    .dataframe tbody tr th:only-of-type {\n",
       "        vertical-align: middle;\n",
       "    }\n",
       "\n",
       "    .dataframe tbody tr th {\n",
       "        vertical-align: top;\n",
       "    }\n",
       "\n",
       "    .dataframe thead th {\n",
       "        text-align: right;\n",
       "    }\n",
       "</style>\n",
       "<table border=\"1\" class=\"dataframe\">\n",
       "  <thead>\n",
       "    <tr style=\"text-align: right;\">\n",
       "      <th></th>\n",
       "      <th>Specs</th>\n",
       "      <th>Score</th>\n",
       "      <th>p-value</th>\n",
       "    </tr>\n",
       "  </thead>\n",
       "  <tbody>\n",
       "    <tr>\n",
       "      <th>95</th>\n",
       "      <td>55</td>\n",
       "      <td>15.865715</td>\n",
       "      <td>0.000068</td>\n",
       "    </tr>\n",
       "    <tr>\n",
       "      <th>96</th>\n",
       "      <td>92</td>\n",
       "      <td>11.650554</td>\n",
       "      <td>0.000642</td>\n",
       "    </tr>\n",
       "    <tr>\n",
       "      <th>97</th>\n",
       "      <td>78</td>\n",
       "      <td>9.274679</td>\n",
       "      <td>0.002323</td>\n",
       "    </tr>\n",
       "    <tr>\n",
       "      <th>98</th>\n",
       "      <td>14</td>\n",
       "      <td>8.888856</td>\n",
       "      <td>0.002869</td>\n",
       "    </tr>\n",
       "    <tr>\n",
       "      <th>99</th>\n",
       "      <td>57</td>\n",
       "      <td>6.779592</td>\n",
       "      <td>0.009221</td>\n",
       "    </tr>\n",
       "    <tr>\n",
       "      <th>100</th>\n",
       "      <td>86</td>\n",
       "      <td>6.731474</td>\n",
       "      <td>0.009473</td>\n",
       "    </tr>\n",
       "    <tr>\n",
       "      <th>101</th>\n",
       "      <td>115</td>\n",
       "      <td>6.041224</td>\n",
       "      <td>0.013976</td>\n",
       "    </tr>\n",
       "    <tr>\n",
       "      <th>102</th>\n",
       "      <td>103</td>\n",
       "      <td>3.541628</td>\n",
       "      <td>0.059847</td>\n",
       "    </tr>\n",
       "    <tr>\n",
       "      <th>103</th>\n",
       "      <td>84</td>\n",
       "      <td>3.109709</td>\n",
       "      <td>0.077827</td>\n",
       "    </tr>\n",
       "    <tr>\n",
       "      <th>104</th>\n",
       "      <td>105</td>\n",
       "      <td>2.649995</td>\n",
       "      <td>0.103550</td>\n",
       "    </tr>\n",
       "    <tr>\n",
       "      <th>105</th>\n",
       "      <td>93</td>\n",
       "      <td>2.034133</td>\n",
       "      <td>0.153802</td>\n",
       "    </tr>\n",
       "    <tr>\n",
       "      <th>106</th>\n",
       "      <td>36</td>\n",
       "      <td>1.156495</td>\n",
       "      <td>0.282194</td>\n",
       "    </tr>\n",
       "    <tr>\n",
       "      <th>107</th>\n",
       "      <td>30</td>\n",
       "      <td>0.523906</td>\n",
       "      <td>0.469180</td>\n",
       "    </tr>\n",
       "    <tr>\n",
       "      <th>108</th>\n",
       "      <td>68</td>\n",
       "      <td>0.387878</td>\n",
       "      <td>0.533417</td>\n",
       "    </tr>\n",
       "    <tr>\n",
       "      <th>109</th>\n",
       "      <td>77</td>\n",
       "      <td>0.381583</td>\n",
       "      <td>0.536757</td>\n",
       "    </tr>\n",
       "    <tr>\n",
       "      <th>110</th>\n",
       "      <td>82</td>\n",
       "      <td>0.341482</td>\n",
       "      <td>0.558975</td>\n",
       "    </tr>\n",
       "    <tr>\n",
       "      <th>111</th>\n",
       "      <td>72</td>\n",
       "      <td>0.081739</td>\n",
       "      <td>0.774954</td>\n",
       "    </tr>\n",
       "    <tr>\n",
       "      <th>112</th>\n",
       "      <td>26</td>\n",
       "      <td>0.036504</td>\n",
       "      <td>0.848479</td>\n",
       "    </tr>\n",
       "  </tbody>\n",
       "</table>\n",
       "</div>"
      ],
      "text/plain": [
       "     Specs      Score   p-value\n",
       "95      55  15.865715  0.000068\n",
       "96      92  11.650554  0.000642\n",
       "97      78   9.274679  0.002323\n",
       "98      14   8.888856  0.002869\n",
       "99      57   6.779592  0.009221\n",
       "100     86   6.731474  0.009473\n",
       "101    115   6.041224  0.013976\n",
       "102    103   3.541628  0.059847\n",
       "103     84   3.109709  0.077827\n",
       "104    105   2.649995  0.103550\n",
       "105     93   2.034133  0.153802\n",
       "106     36   1.156495  0.282194\n",
       "107     30   0.523906  0.469180\n",
       "108     68   0.387878  0.533417\n",
       "109     77   0.381583  0.536757\n",
       "110     82   0.341482  0.558975\n",
       "111     72   0.081739  0.774954\n",
       "112     26   0.036504  0.848479"
      ]
     },
     "execution_count": 44,
     "metadata": {},
     "output_type": "execute_result"
    }
   ],
   "source": [
    "fs_cat[95:]"
   ]
  },
  {
   "cell_type": "markdown",
   "metadata": {},
   "source": [
    "For the categorical variables there are definitely a few which do not have a statistically significant effect. We choose to remove the ones that do not have an effect at a 1% level of significance (so from row 101)"
   ]
  },
  {
   "cell_type": "code",
   "execution_count": 45,
   "metadata": {},
   "outputs": [],
   "source": [
    "drop = fs_cat.loc[101:, 'Specs'].values \n",
    "X = X.drop(columns=drop)"
   ]
  },
  {
   "cell_type": "markdown",
   "metadata": {},
   "source": [
    "Moreover, when we try PCA to select the most important features, it did not improve our model. For every feature we removed, the worse our model performed with respect to our kaggle performance function. If you want to experiment with this yourselve, we have added the code in the comments:"
   ]
  },
  {
   "cell_type": "code",
   "execution_count": null,
   "metadata": {},
   "outputs": [],
   "source": [
    "# pca = PCA()\n",
    "# pca.fit_transform(X)\n",
    "# features = range(pca.n_components_)\n",
    "# plt.bar(features, pca.explained_variance_)\n",
    "# X = pd.DataFrame(pca.transform(X))"
   ]
  },
  {
   "cell_type": "markdown",
   "metadata": {},
   "source": [
    "## 3. Model fitting"
   ]
  },
  {
   "cell_type": "markdown",
   "metadata": {},
   "source": [
    "Now that we have our preprocessed data, we want to fit a model. As we noticed during our exploratory analysis, we have a highly unbalanced sample. We have far more data points for the lower income class as compared to the higher income class. A result of this skewed data could be that a correct classification of the lower income class is worth more than a correct classification of the higher income class, which should not be the case! So to deal with this issue we rebalance our sample:"
   ]
  },
  {
   "cell_type": "code",
   "execution_count": 53,
   "metadata": {},
   "outputs": [],
   "source": [
    "# Balanced sample\n",
    "\n",
    "y['income'].value_counts()\n",
    "Xy = X.join(y)\n",
    "over_50 = Xy.loc[Xy[\"income\"] == 1]\n",
    "under_50 = Xy.loc[Xy[\"income\"] == 0]\n",
    "under_50_new = under_50.sample(len(over_50), random_state=25)"
   ]
  },
  {
   "cell_type": "markdown",
   "metadata": {},
   "source": [
    "We should check the representativeness of the smaller sample compared to the larger one (let's do this only for the numerical variables)"
   ]
  },
  {
   "cell_type": "code",
   "execution_count": 50,
   "metadata": {},
   "outputs": [
    {
     "data": {
      "text/html": [
       "<div>\n",
       "<style scoped>\n",
       "    .dataframe tbody tr th:only-of-type {\n",
       "        vertical-align: middle;\n",
       "    }\n",
       "\n",
       "    .dataframe tbody tr th {\n",
       "        vertical-align: top;\n",
       "    }\n",
       "\n",
       "    .dataframe thead th {\n",
       "        text-align: right;\n",
       "    }\n",
       "</style>\n",
       "<table border=\"1\" class=\"dataframe\">\n",
       "  <thead>\n",
       "    <tr style=\"text-align: right;\">\n",
       "      <th></th>\n",
       "      <th>0</th>\n",
       "      <th>1</th>\n",
       "      <th>2</th>\n",
       "      <th>3</th>\n",
       "      <th>4</th>\n",
       "      <th>5</th>\n",
       "    </tr>\n",
       "  </thead>\n",
       "  <tbody>\n",
       "    <tr>\n",
       "      <th>count</th>\n",
       "      <td>187141.000000</td>\n",
       "      <td>187141.000000</td>\n",
       "      <td>187141.000000</td>\n",
       "      <td>187141.000000</td>\n",
       "      <td>187141.000000</td>\n",
       "      <td>187141.000000</td>\n",
       "    </tr>\n",
       "    <tr>\n",
       "      <th>mean</th>\n",
       "      <td>-0.073677</td>\n",
       "      <td>-0.034910</td>\n",
       "      <td>-0.006309</td>\n",
       "      <td>-0.037919</td>\n",
       "      <td>-0.045215</td>\n",
       "      <td>-0.067474</td>\n",
       "    </tr>\n",
       "    <tr>\n",
       "      <th>std</th>\n",
       "      <td>0.564094</td>\n",
       "      <td>1.013868</td>\n",
       "      <td>0.950063</td>\n",
       "      <td>0.844202</td>\n",
       "      <td>0.458519</td>\n",
       "      <td>0.987988</td>\n",
       "    </tr>\n",
       "    <tr>\n",
       "      <th>min</th>\n",
       "      <td>-0.146912</td>\n",
       "      <td>-1.546074</td>\n",
       "      <td>-0.201629</td>\n",
       "      <td>-0.137236</td>\n",
       "      <td>-0.099553</td>\n",
       "      <td>-0.949346</td>\n",
       "    </tr>\n",
       "    <tr>\n",
       "      <th>25%</th>\n",
       "      <td>-0.146912</td>\n",
       "      <td>-0.918576</td>\n",
       "      <td>-0.201629</td>\n",
       "      <td>-0.137236</td>\n",
       "      <td>-0.099553</td>\n",
       "      <td>-0.949346</td>\n",
       "    </tr>\n",
       "    <tr>\n",
       "      <th>50%</th>\n",
       "      <td>-0.146912</td>\n",
       "      <td>-0.156614</td>\n",
       "      <td>-0.201629</td>\n",
       "      <td>-0.137236</td>\n",
       "      <td>-0.099553</td>\n",
       "      <td>-0.949346</td>\n",
       "    </tr>\n",
       "    <tr>\n",
       "      <th>75%</th>\n",
       "      <td>-0.146912</td>\n",
       "      <td>0.650168</td>\n",
       "      <td>-0.201629</td>\n",
       "      <td>-0.137236</td>\n",
       "      <td>-0.099553</td>\n",
       "      <td>1.180804</td>\n",
       "    </tr>\n",
       "    <tr>\n",
       "      <th>max</th>\n",
       "      <td>25.219094</td>\n",
       "      <td>2.487840</td>\n",
       "      <td>35.870226</td>\n",
       "      <td>16.810437</td>\n",
       "      <td>19.556133</td>\n",
       "      <td>1.180804</td>\n",
       "    </tr>\n",
       "  </tbody>\n",
       "</table>\n",
       "</div>"
      ],
      "text/plain": [
       "                   0              1              2              3  \\\n",
       "count  187141.000000  187141.000000  187141.000000  187141.000000   \n",
       "mean       -0.073677      -0.034910      -0.006309      -0.037919   \n",
       "std         0.564094       1.013868       0.950063       0.844202   \n",
       "min        -0.146912      -1.546074      -0.201629      -0.137236   \n",
       "25%        -0.146912      -0.918576      -0.201629      -0.137236   \n",
       "50%        -0.146912      -0.156614      -0.201629      -0.137236   \n",
       "75%        -0.146912       0.650168      -0.201629      -0.137236   \n",
       "max        25.219094       2.487840      35.870226      16.810437   \n",
       "\n",
       "                   4              5  \n",
       "count  187141.000000  187141.000000  \n",
       "mean       -0.045215      -0.067474  \n",
       "std         0.458519       0.987988  \n",
       "min        -0.099553      -0.949346  \n",
       "25%        -0.099553      -0.949346  \n",
       "50%        -0.099553      -0.949346  \n",
       "75%        -0.099553       1.180804  \n",
       "max        19.556133       1.180804  "
      ]
     },
     "execution_count": 50,
     "metadata": {},
     "output_type": "execute_result"
    }
   ],
   "source": [
    "under_50.iloc[:,:6].describe()"
   ]
  },
  {
   "cell_type": "code",
   "execution_count": 51,
   "metadata": {},
   "outputs": [
    {
     "data": {
      "text/html": [
       "<div>\n",
       "<style scoped>\n",
       "    .dataframe tbody tr th:only-of-type {\n",
       "        vertical-align: middle;\n",
       "    }\n",
       "\n",
       "    .dataframe tbody tr th {\n",
       "        vertical-align: top;\n",
       "    }\n",
       "\n",
       "    .dataframe thead th {\n",
       "        text-align: right;\n",
       "    }\n",
       "</style>\n",
       "<table border=\"1\" class=\"dataframe\">\n",
       "  <thead>\n",
       "    <tr style=\"text-align: right;\">\n",
       "      <th></th>\n",
       "      <th>0</th>\n",
       "      <th>1</th>\n",
       "      <th>2</th>\n",
       "      <th>3</th>\n",
       "      <th>4</th>\n",
       "      <th>5</th>\n",
       "    </tr>\n",
       "  </thead>\n",
       "  <tbody>\n",
       "    <tr>\n",
       "      <th>count</th>\n",
       "      <td>12382.000000</td>\n",
       "      <td>12382.000000</td>\n",
       "      <td>12382.000000</td>\n",
       "      <td>12382.000000</td>\n",
       "      <td>12382.000000</td>\n",
       "      <td>12382.000000</td>\n",
       "    </tr>\n",
       "    <tr>\n",
       "      <th>mean</th>\n",
       "      <td>-0.081797</td>\n",
       "      <td>-0.030227</td>\n",
       "      <td>0.003189</td>\n",
       "      <td>-0.043726</td>\n",
       "      <td>-0.053502</td>\n",
       "      <td>-0.061392</td>\n",
       "    </tr>\n",
       "    <tr>\n",
       "      <th>std</th>\n",
       "      <td>0.496497</td>\n",
       "      <td>1.012270</td>\n",
       "      <td>1.088378</td>\n",
       "      <td>0.832141</td>\n",
       "      <td>0.412319</td>\n",
       "      <td>0.988376</td>\n",
       "    </tr>\n",
       "    <tr>\n",
       "      <th>min</th>\n",
       "      <td>-0.146912</td>\n",
       "      <td>-1.546074</td>\n",
       "      <td>-0.201629</td>\n",
       "      <td>-0.137236</td>\n",
       "      <td>-0.099553</td>\n",
       "      <td>-0.949346</td>\n",
       "    </tr>\n",
       "    <tr>\n",
       "      <th>25%</th>\n",
       "      <td>-0.146912</td>\n",
       "      <td>-0.918576</td>\n",
       "      <td>-0.201629</td>\n",
       "      <td>-0.137236</td>\n",
       "      <td>-0.099553</td>\n",
       "      <td>-0.949346</td>\n",
       "    </tr>\n",
       "    <tr>\n",
       "      <th>50%</th>\n",
       "      <td>-0.146912</td>\n",
       "      <td>-0.111793</td>\n",
       "      <td>-0.201629</td>\n",
       "      <td>-0.137236</td>\n",
       "      <td>-0.099553</td>\n",
       "      <td>-0.949346</td>\n",
       "    </tr>\n",
       "    <tr>\n",
       "      <th>75%</th>\n",
       "      <td>-0.146912</td>\n",
       "      <td>0.650168</td>\n",
       "      <td>-0.201629</td>\n",
       "      <td>-0.137236</td>\n",
       "      <td>-0.099553</td>\n",
       "      <td>1.180804</td>\n",
       "    </tr>\n",
       "    <tr>\n",
       "      <th>max</th>\n",
       "      <td>12.165211</td>\n",
       "      <td>2.487840</td>\n",
       "      <td>35.448247</td>\n",
       "      <td>16.810437</td>\n",
       "      <td>17.540165</td>\n",
       "      <td>1.180804</td>\n",
       "    </tr>\n",
       "  </tbody>\n",
       "</table>\n",
       "</div>"
      ],
      "text/plain": [
       "                  0             1             2             3             4  \\\n",
       "count  12382.000000  12382.000000  12382.000000  12382.000000  12382.000000   \n",
       "mean      -0.081797     -0.030227      0.003189     -0.043726     -0.053502   \n",
       "std        0.496497      1.012270      1.088378      0.832141      0.412319   \n",
       "min       -0.146912     -1.546074     -0.201629     -0.137236     -0.099553   \n",
       "25%       -0.146912     -0.918576     -0.201629     -0.137236     -0.099553   \n",
       "50%       -0.146912     -0.111793     -0.201629     -0.137236     -0.099553   \n",
       "75%       -0.146912      0.650168     -0.201629     -0.137236     -0.099553   \n",
       "max       12.165211      2.487840     35.448247     16.810437     17.540165   \n",
       "\n",
       "                  5  \n",
       "count  12382.000000  \n",
       "mean      -0.061392  \n",
       "std        0.988376  \n",
       "min       -0.949346  \n",
       "25%       -0.949346  \n",
       "50%       -0.949346  \n",
       "75%        1.180804  \n",
       "max        1.180804  "
      ]
     },
     "execution_count": 51,
     "metadata": {},
     "output_type": "execute_result"
    }
   ],
   "source": [
    "under_50_new.iloc[:,:6].describe()"
   ]
  },
  {
   "cell_type": "markdown",
   "metadata": {},
   "source": [
    "It seems representative, so we use this to form our balanced dataset:"
   ]
  },
  {
   "cell_type": "code",
   "execution_count": 54,
   "metadata": {},
   "outputs": [],
   "source": [
    "# balanced sample:\n",
    "Xy_b = pd.concat([over_50, under_50_new])\n",
    "X_b = Xy_b.drop(columns=['income'])\n",
    "y_b = Xy_b['income']"
   ]
  },
  {
   "cell_type": "markdown",
   "metadata": {},
   "source": [
    "Now that we have our balanced dataset, we can fit and compare different models. Let's start with a logit model:"
   ]
  },
  {
   "cell_type": "code",
   "execution_count": 57,
   "metadata": {},
   "outputs": [
    {
     "data": {
      "text/plain": [
       "0.8727992246809885"
      ]
     },
     "execution_count": 57,
     "metadata": {},
     "output_type": "execute_result"
    }
   ],
   "source": [
    "# logit\n",
    "logit = LogisticRegression(solver='liblinear', random_state=24)\n",
    "logit.fit(X_b, y_b)\n",
    "y_pred = logit.predict(X_b)\n",
    "roc_auc_score(y_b, y_pred)"
   ]
  },
  {
   "cell_type": "markdown",
   "metadata": {},
   "source": [
    "Not bad at all! Now, let's see our tailor made cross-validation function in action:"
   ]
  },
  {
   "cell_type": "code",
   "execution_count": 58,
   "metadata": {},
   "outputs": [
    {
     "data": {
      "text/html": [
       "<div>\n",
       "<style scoped>\n",
       "    .dataframe tbody tr th:only-of-type {\n",
       "        vertical-align: middle;\n",
       "    }\n",
       "\n",
       "    .dataframe tbody tr th {\n",
       "        vertical-align: top;\n",
       "    }\n",
       "\n",
       "    .dataframe thead th {\n",
       "        text-align: right;\n",
       "    }\n",
       "</style>\n",
       "<table border=\"1\" class=\"dataframe\">\n",
       "  <thead>\n",
       "    <tr style=\"text-align: right;\">\n",
       "      <th></th>\n",
       "      <th>0</th>\n",
       "    </tr>\n",
       "  </thead>\n",
       "  <tbody>\n",
       "    <tr>\n",
       "      <th>count</th>\n",
       "      <td>5.000000</td>\n",
       "    </tr>\n",
       "    <tr>\n",
       "      <th>mean</th>\n",
       "      <td>0.870214</td>\n",
       "    </tr>\n",
       "    <tr>\n",
       "      <th>std</th>\n",
       "      <td>0.005258</td>\n",
       "    </tr>\n",
       "    <tr>\n",
       "      <th>min</th>\n",
       "      <td>0.865956</td>\n",
       "    </tr>\n",
       "    <tr>\n",
       "      <th>25%</th>\n",
       "      <td>0.866256</td>\n",
       "    </tr>\n",
       "    <tr>\n",
       "      <th>50%</th>\n",
       "      <td>0.869200</td>\n",
       "    </tr>\n",
       "    <tr>\n",
       "      <th>75%</th>\n",
       "      <td>0.870759</td>\n",
       "    </tr>\n",
       "    <tr>\n",
       "      <th>max</th>\n",
       "      <td>0.878901</td>\n",
       "    </tr>\n",
       "  </tbody>\n",
       "</table>\n",
       "</div>"
      ],
      "text/plain": [
       "              0\n",
       "count  5.000000\n",
       "mean   0.870214\n",
       "std    0.005258\n",
       "min    0.865956\n",
       "25%    0.866256\n",
       "50%    0.869200\n",
       "75%    0.870759\n",
       "max    0.878901"
      ]
     },
     "execution_count": 58,
     "metadata": {},
     "output_type": "execute_result"
    }
   ],
   "source": [
    "scores = cv_kaggle(logit, X_b, y_b, cv=5, state=24)\n",
    "pd.DataFrame(scores).describe()"
   ]
  },
  {
   "cell_type": "markdown",
   "metadata": {},
   "source": [
    "All looks good! The score is actually above the ML Solution on the kaggle leaderboard. At this point I submitted my predictions (using this model) to the kaggle competition to see how it was going to be evaluated. And indeed the score was very similar. So it is good to know we can trust our performance measure:)\n",
    "\n",
    "It's Hyperparameter time! Let's perform a randomized grid search to find the best hyperparameters:"
   ]
  },
  {
   "cell_type": "code",
   "execution_count": 60,
   "metadata": {},
   "outputs": [
    {
     "data": {
      "text/html": [
       "<div>\n",
       "<style scoped>\n",
       "    .dataframe tbody tr th:only-of-type {\n",
       "        vertical-align: middle;\n",
       "    }\n",
       "\n",
       "    .dataframe tbody tr th {\n",
       "        vertical-align: top;\n",
       "    }\n",
       "\n",
       "    .dataframe thead th {\n",
       "        text-align: right;\n",
       "    }\n",
       "</style>\n",
       "<table border=\"1\" class=\"dataframe\">\n",
       "  <thead>\n",
       "    <tr style=\"text-align: right;\">\n",
       "      <th></th>\n",
       "      <th>0</th>\n",
       "    </tr>\n",
       "  </thead>\n",
       "  <tbody>\n",
       "    <tr>\n",
       "      <th>count</th>\n",
       "      <td>5.000000</td>\n",
       "    </tr>\n",
       "    <tr>\n",
       "      <th>mean</th>\n",
       "      <td>0.870295</td>\n",
       "    </tr>\n",
       "    <tr>\n",
       "      <th>std</th>\n",
       "      <td>0.005165</td>\n",
       "    </tr>\n",
       "    <tr>\n",
       "      <th>min</th>\n",
       "      <td>0.865954</td>\n",
       "    </tr>\n",
       "    <tr>\n",
       "      <th>25%</th>\n",
       "      <td>0.867471</td>\n",
       "    </tr>\n",
       "    <tr>\n",
       "      <th>50%</th>\n",
       "      <td>0.868790</td>\n",
       "    </tr>\n",
       "    <tr>\n",
       "      <th>75%</th>\n",
       "      <td>0.870155</td>\n",
       "    </tr>\n",
       "    <tr>\n",
       "      <th>max</th>\n",
       "      <td>0.879104</td>\n",
       "    </tr>\n",
       "  </tbody>\n",
       "</table>\n",
       "</div>"
      ],
      "text/plain": [
       "              0\n",
       "count  5.000000\n",
       "mean   0.870295\n",
       "std    0.005165\n",
       "min    0.865954\n",
       "25%    0.867471\n",
       "50%    0.868790\n",
       "75%    0.870155\n",
       "max    0.879104"
      ]
     },
     "execution_count": 60,
     "metadata": {},
     "output_type": "execute_result"
    }
   ],
   "source": [
    "param_grid = {'C': np.logspace(0, 10, 10),\n",
    "              'penalty': ['l1', 'l2'],\n",
    "              'solver': ['liblinear']\n",
    "              }\n",
    "logit_search = RandomizedSearchCV(\n",
    "    estimator=LogisticRegression(random_state=24),\n",
    "    param_distributions=param_grid,\n",
    "    n_iter=10,\n",
    "    scoring='roc_auc',\n",
    "    cv=5,\n",
    "    refit=True,\n",
    "    return_train_score=True\n",
    ")\n",
    "logit_search.fit(X_b, y_b)\n",
    "logit_search.best_estimator_.get_params()\n",
    "logit_best = logit_search.best_estimator_\n",
    "pred_logit_best = logit_search.predict(X_b)\n",
    "roc_auc_score(y_b, pred_logit_best)\n",
    "scores = cv_kaggle(logit_best, X_b, y_b, cv=5, state=24)\n",
    "pd.DataFrame(scores).describe()"
   ]
  },
  {
   "cell_type": "markdown",
   "metadata": {},
   "source": [
    "Unfortunately, not a great performance improvement"
   ]
  },
  {
   "cell_type": "markdown",
   "metadata": {},
   "source": [
    "Let's compare a few other models:"
   ]
  },
  {
   "cell_type": "code",
   "execution_count": 63,
   "metadata": {},
   "outputs": [
    {
     "data": {
      "text/html": [
       "<div>\n",
       "<style scoped>\n",
       "    .dataframe tbody tr th:only-of-type {\n",
       "        vertical-align: middle;\n",
       "    }\n",
       "\n",
       "    .dataframe tbody tr th {\n",
       "        vertical-align: top;\n",
       "    }\n",
       "\n",
       "    .dataframe thead th {\n",
       "        text-align: right;\n",
       "    }\n",
       "</style>\n",
       "<table border=\"1\" class=\"dataframe\">\n",
       "  <thead>\n",
       "    <tr style=\"text-align: right;\">\n",
       "      <th></th>\n",
       "      <th>0</th>\n",
       "    </tr>\n",
       "  </thead>\n",
       "  <tbody>\n",
       "    <tr>\n",
       "      <th>count</th>\n",
       "      <td>5.000000</td>\n",
       "    </tr>\n",
       "    <tr>\n",
       "      <th>mean</th>\n",
       "      <td>0.814725</td>\n",
       "    </tr>\n",
       "    <tr>\n",
       "      <th>std</th>\n",
       "      <td>0.008085</td>\n",
       "    </tr>\n",
       "    <tr>\n",
       "      <th>min</th>\n",
       "      <td>0.801931</td>\n",
       "    </tr>\n",
       "    <tr>\n",
       "      <th>25%</th>\n",
       "      <td>0.812192</td>\n",
       "    </tr>\n",
       "    <tr>\n",
       "      <th>50%</th>\n",
       "      <td>0.816917</td>\n",
       "    </tr>\n",
       "    <tr>\n",
       "      <th>75%</th>\n",
       "      <td>0.820905</td>\n",
       "    </tr>\n",
       "    <tr>\n",
       "      <th>max</th>\n",
       "      <td>0.821681</td>\n",
       "    </tr>\n",
       "  </tbody>\n",
       "</table>\n",
       "</div>"
      ],
      "text/plain": [
       "              0\n",
       "count  5.000000\n",
       "mean   0.814725\n",
       "std    0.008085\n",
       "min    0.801931\n",
       "25%    0.812192\n",
       "50%    0.816917\n",
       "75%    0.820905\n",
       "max    0.821681"
      ]
     },
     "execution_count": 63,
     "metadata": {},
     "output_type": "execute_result"
    }
   ],
   "source": [
    "# Regression tree\n",
    "tree_reg = DecisionTreeRegressor(random_state=25)\n",
    "tree_reg.fit(X_b, y_b)\n",
    "y_pred_tree = tree_reg.predict(X_b)\n",
    "roc_auc_score(y_b, y_pred_tree)\n",
    "\n",
    "# cross-validation\n",
    "scores = cv_kaggle(tree_reg, X_b, y_b, cv=5, state=24)\n",
    "pd.DataFrame(scores).describe()"
   ]
  },
  {
   "cell_type": "code",
   "execution_count": 64,
   "metadata": {},
   "outputs": [
    {
     "data": {
      "text/html": [
       "<div>\n",
       "<style scoped>\n",
       "    .dataframe tbody tr th:only-of-type {\n",
       "        vertical-align: middle;\n",
       "    }\n",
       "\n",
       "    .dataframe tbody tr th {\n",
       "        vertical-align: top;\n",
       "    }\n",
       "\n",
       "    .dataframe thead th {\n",
       "        text-align: right;\n",
       "    }\n",
       "</style>\n",
       "<table border=\"1\" class=\"dataframe\">\n",
       "  <thead>\n",
       "    <tr style=\"text-align: right;\">\n",
       "      <th></th>\n",
       "      <th>0</th>\n",
       "    </tr>\n",
       "  </thead>\n",
       "  <tbody>\n",
       "    <tr>\n",
       "      <th>count</th>\n",
       "      <td>5.000000</td>\n",
       "    </tr>\n",
       "    <tr>\n",
       "      <th>mean</th>\n",
       "      <td>0.861712</td>\n",
       "    </tr>\n",
       "    <tr>\n",
       "      <th>std</th>\n",
       "      <td>0.005554</td>\n",
       "    </tr>\n",
       "    <tr>\n",
       "      <th>min</th>\n",
       "      <td>0.856362</td>\n",
       "    </tr>\n",
       "    <tr>\n",
       "      <th>25%</th>\n",
       "      <td>0.858998</td>\n",
       "    </tr>\n",
       "    <tr>\n",
       "      <th>50%</th>\n",
       "      <td>0.859768</td>\n",
       "    </tr>\n",
       "    <tr>\n",
       "      <th>75%</th>\n",
       "      <td>0.862622</td>\n",
       "    </tr>\n",
       "    <tr>\n",
       "      <th>max</th>\n",
       "      <td>0.870812</td>\n",
       "    </tr>\n",
       "  </tbody>\n",
       "</table>\n",
       "</div>"
      ],
      "text/plain": [
       "              0\n",
       "count  5.000000\n",
       "mean   0.861712\n",
       "std    0.005554\n",
       "min    0.856362\n",
       "25%    0.858998\n",
       "50%    0.859768\n",
       "75%    0.862622\n",
       "max    0.870812"
      ]
     },
     "execution_count": 64,
     "metadata": {},
     "output_type": "execute_result"
    }
   ],
   "source": [
    "# Random forest regression\n",
    "forest_reg = RandomForestRegressor(random_state=25)\n",
    "forest_reg.fit(X_b, y_b)\n",
    "y_pred_forest = forest_reg.predict(X_b)\n",
    "roc_auc_score(y_b, y_pred_forest)\n",
    "\n",
    "# cross-validation\n",
    "scores = cv_kaggle(forest_reg, X_b, y_b, cv=5, state=24)\n",
    "pd.DataFrame(scores).describe()"
   ]
  },
  {
   "cell_type": "code",
   "execution_count": 65,
   "metadata": {},
   "outputs": [
    {
     "data": {
      "text/html": [
       "<div>\n",
       "<style scoped>\n",
       "    .dataframe tbody tr th:only-of-type {\n",
       "        vertical-align: middle;\n",
       "    }\n",
       "\n",
       "    .dataframe tbody tr th {\n",
       "        vertical-align: top;\n",
       "    }\n",
       "\n",
       "    .dataframe thead th {\n",
       "        text-align: right;\n",
       "    }\n",
       "</style>\n",
       "<table border=\"1\" class=\"dataframe\">\n",
       "  <thead>\n",
       "    <tr style=\"text-align: right;\">\n",
       "      <th></th>\n",
       "      <th>0</th>\n",
       "    </tr>\n",
       "  </thead>\n",
       "  <tbody>\n",
       "    <tr>\n",
       "      <th>count</th>\n",
       "      <td>5.000000</td>\n",
       "    </tr>\n",
       "    <tr>\n",
       "      <th>mean</th>\n",
       "      <td>0.867275</td>\n",
       "    </tr>\n",
       "    <tr>\n",
       "      <th>std</th>\n",
       "      <td>0.003454</td>\n",
       "    </tr>\n",
       "    <tr>\n",
       "      <th>min</th>\n",
       "      <td>0.862766</td>\n",
       "    </tr>\n",
       "    <tr>\n",
       "      <th>25%</th>\n",
       "      <td>0.866044</td>\n",
       "    </tr>\n",
       "    <tr>\n",
       "      <th>50%</th>\n",
       "      <td>0.866598</td>\n",
       "    </tr>\n",
       "    <tr>\n",
       "      <th>75%</th>\n",
       "      <td>0.868938</td>\n",
       "    </tr>\n",
       "    <tr>\n",
       "      <th>max</th>\n",
       "      <td>0.872032</td>\n",
       "    </tr>\n",
       "  </tbody>\n",
       "</table>\n",
       "</div>"
      ],
      "text/plain": [
       "              0\n",
       "count  5.000000\n",
       "mean   0.867275\n",
       "std    0.003454\n",
       "min    0.862766\n",
       "25%    0.866044\n",
       "50%    0.866598\n",
       "75%    0.868938\n",
       "max    0.872032"
      ]
     },
     "execution_count": 65,
     "metadata": {},
     "output_type": "execute_result"
    }
   ],
   "source": [
    "# Forest classifier\n",
    "forest_class = RandomForestClassifier(random_state=25)\n",
    "forest_class.fit(X_b, y_b)\n",
    "y_pred_forest_c = forest_class.predict(X_b)\n",
    "roc_auc_score(y_b, np.round(y_pred_forest_c))\n",
    "\n",
    "# cross-validation\n",
    "scores = cv_kaggle(forest_class, X_b, y_b, cv=5, state=24)\n",
    "pd.DataFrame(scores).describe()"
   ]
  },
  {
   "cell_type": "code",
   "execution_count": 66,
   "metadata": {},
   "outputs": [
    {
     "data": {
      "text/html": [
       "<div>\n",
       "<style scoped>\n",
       "    .dataframe tbody tr th:only-of-type {\n",
       "        vertical-align: middle;\n",
       "    }\n",
       "\n",
       "    .dataframe tbody tr th {\n",
       "        vertical-align: top;\n",
       "    }\n",
       "\n",
       "    .dataframe thead th {\n",
       "        text-align: right;\n",
       "    }\n",
       "</style>\n",
       "<table border=\"1\" class=\"dataframe\">\n",
       "  <thead>\n",
       "    <tr style=\"text-align: right;\">\n",
       "      <th></th>\n",
       "      <th>0</th>\n",
       "    </tr>\n",
       "  </thead>\n",
       "  <tbody>\n",
       "    <tr>\n",
       "      <th>count</th>\n",
       "      <td>5.000000</td>\n",
       "    </tr>\n",
       "    <tr>\n",
       "      <th>mean</th>\n",
       "      <td>0.812784</td>\n",
       "    </tr>\n",
       "    <tr>\n",
       "      <th>std</th>\n",
       "      <td>0.005092</td>\n",
       "    </tr>\n",
       "    <tr>\n",
       "      <th>min</th>\n",
       "      <td>0.808273</td>\n",
       "    </tr>\n",
       "    <tr>\n",
       "      <th>25%</th>\n",
       "      <td>0.808601</td>\n",
       "    </tr>\n",
       "    <tr>\n",
       "      <th>50%</th>\n",
       "      <td>0.810840</td>\n",
       "    </tr>\n",
       "    <tr>\n",
       "      <th>75%</th>\n",
       "      <td>0.816445</td>\n",
       "    </tr>\n",
       "    <tr>\n",
       "      <th>max</th>\n",
       "      <td>0.819763</td>\n",
       "    </tr>\n",
       "  </tbody>\n",
       "</table>\n",
       "</div>"
      ],
      "text/plain": [
       "              0\n",
       "count  5.000000\n",
       "mean   0.812784\n",
       "std    0.005092\n",
       "min    0.808273\n",
       "25%    0.808601\n",
       "50%    0.810840\n",
       "75%    0.816445\n",
       "max    0.819763"
      ]
     },
     "execution_count": 66,
     "metadata": {},
     "output_type": "execute_result"
    }
   ],
   "source": [
    "# GNB\n",
    "gnb = GaussianNB()\n",
    "gnb.fit(X_b, y_b)\n",
    "y_pred_gnb = gnb.predict(X_b)\n",
    "roc_auc_score(y_b, np.round(y_pred_gnb))\n",
    "\n",
    "# cross-validation\n",
    "scores = cv_kaggle(gnb, X_b, y_b, cv=5, state=24)\n",
    "pd.DataFrame(scores).describe()"
   ]
  },
  {
   "cell_type": "code",
   "execution_count": 67,
   "metadata": {},
   "outputs": [
    {
     "data": {
      "text/html": [
       "<div>\n",
       "<style scoped>\n",
       "    .dataframe tbody tr th:only-of-type {\n",
       "        vertical-align: middle;\n",
       "    }\n",
       "\n",
       "    .dataframe tbody tr th {\n",
       "        vertical-align: top;\n",
       "    }\n",
       "\n",
       "    .dataframe thead th {\n",
       "        text-align: right;\n",
       "    }\n",
       "</style>\n",
       "<table border=\"1\" class=\"dataframe\">\n",
       "  <thead>\n",
       "    <tr style=\"text-align: right;\">\n",
       "      <th></th>\n",
       "      <th>0</th>\n",
       "    </tr>\n",
       "  </thead>\n",
       "  <tbody>\n",
       "    <tr>\n",
       "      <th>count</th>\n",
       "      <td>5.000000</td>\n",
       "    </tr>\n",
       "    <tr>\n",
       "      <th>mean</th>\n",
       "      <td>0.873410</td>\n",
       "    </tr>\n",
       "    <tr>\n",
       "      <th>std</th>\n",
       "      <td>0.002285</td>\n",
       "    </tr>\n",
       "    <tr>\n",
       "      <th>min</th>\n",
       "      <td>0.870971</td>\n",
       "    </tr>\n",
       "    <tr>\n",
       "      <th>25%</th>\n",
       "      <td>0.871032</td>\n",
       "    </tr>\n",
       "    <tr>\n",
       "      <th>50%</th>\n",
       "      <td>0.874127</td>\n",
       "    </tr>\n",
       "    <tr>\n",
       "      <th>75%</th>\n",
       "      <td>0.875047</td>\n",
       "    </tr>\n",
       "    <tr>\n",
       "      <th>max</th>\n",
       "      <td>0.875875</td>\n",
       "    </tr>\n",
       "  </tbody>\n",
       "</table>\n",
       "</div>"
      ],
      "text/plain": [
       "              0\n",
       "count  5.000000\n",
       "mean   0.873410\n",
       "std    0.002285\n",
       "min    0.870971\n",
       "25%    0.871032\n",
       "50%    0.874127\n",
       "75%    0.875047\n",
       "max    0.875875"
      ]
     },
     "execution_count": 67,
     "metadata": {},
     "output_type": "execute_result"
    }
   ],
   "source": [
    "# GradientBoostingClassifier\n",
    "gb = GradientBoostingClassifier()\n",
    "gb.fit(X_b, y_b)\n",
    "y_pred_gb = gb.predict(X_b)\n",
    "roc_auc_score(y_b, np.round(y_pred_gb))\n",
    "\n",
    "# cross-validation\n",
    "scores = cv_kaggle(gb, X_b, y_b, cv=5, state=24)\n",
    "pd.DataFrame(scores).describe()"
   ]
  },
  {
   "cell_type": "code",
   "execution_count": 68,
   "metadata": {},
   "outputs": [
    {
     "data": {
      "text/html": [
       "<div>\n",
       "<style scoped>\n",
       "    .dataframe tbody tr th:only-of-type {\n",
       "        vertical-align: middle;\n",
       "    }\n",
       "\n",
       "    .dataframe tbody tr th {\n",
       "        vertical-align: top;\n",
       "    }\n",
       "\n",
       "    .dataframe thead th {\n",
       "        text-align: right;\n",
       "    }\n",
       "</style>\n",
       "<table border=\"1\" class=\"dataframe\">\n",
       "  <thead>\n",
       "    <tr style=\"text-align: right;\">\n",
       "      <th></th>\n",
       "      <th>0</th>\n",
       "    </tr>\n",
       "  </thead>\n",
       "  <tbody>\n",
       "    <tr>\n",
       "      <th>count</th>\n",
       "      <td>5.000000</td>\n",
       "    </tr>\n",
       "    <tr>\n",
       "      <th>mean</th>\n",
       "      <td>0.873046</td>\n",
       "    </tr>\n",
       "    <tr>\n",
       "      <th>std</th>\n",
       "      <td>0.003068</td>\n",
       "    </tr>\n",
       "    <tr>\n",
       "      <th>min</th>\n",
       "      <td>0.871222</td>\n",
       "    </tr>\n",
       "    <tr>\n",
       "      <th>25%</th>\n",
       "      <td>0.871579</td>\n",
       "    </tr>\n",
       "    <tr>\n",
       "      <th>50%</th>\n",
       "      <td>0.871949</td>\n",
       "    </tr>\n",
       "    <tr>\n",
       "      <th>75%</th>\n",
       "      <td>0.871975</td>\n",
       "    </tr>\n",
       "    <tr>\n",
       "      <th>max</th>\n",
       "      <td>0.878508</td>\n",
       "    </tr>\n",
       "  </tbody>\n",
       "</table>\n",
       "</div>"
      ],
      "text/plain": [
       "              0\n",
       "count  5.000000\n",
       "mean   0.873046\n",
       "std    0.003068\n",
       "min    0.871222\n",
       "25%    0.871579\n",
       "50%    0.871949\n",
       "75%    0.871975\n",
       "max    0.878508"
      ]
     },
     "execution_count": 68,
     "metadata": {},
     "output_type": "execute_result"
    }
   ],
   "source": [
    "# SVC\n",
    "svc = svm.SVC()\n",
    "svc.fit(X_b, y_b)\n",
    "y_pred_svc = svc.predict(X_b)\n",
    "roc_auc_score(y_b, np.round(y_pred_svc))\n",
    "\n",
    "# cross-validation\n",
    "scores = cv_kaggle(svc, X_b, y_b, cv=5, state=24)\n",
    "pd.DataFrame(scores).describe()"
   ]
  },
  {
   "cell_type": "code",
   "execution_count": 69,
   "metadata": {},
   "outputs": [
    {
     "data": {
      "text/html": [
       "<div>\n",
       "<style scoped>\n",
       "    .dataframe tbody tr th:only-of-type {\n",
       "        vertical-align: middle;\n",
       "    }\n",
       "\n",
       "    .dataframe tbody tr th {\n",
       "        vertical-align: top;\n",
       "    }\n",
       "\n",
       "    .dataframe thead th {\n",
       "        text-align: right;\n",
       "    }\n",
       "</style>\n",
       "<table border=\"1\" class=\"dataframe\">\n",
       "  <thead>\n",
       "    <tr style=\"text-align: right;\">\n",
       "      <th></th>\n",
       "      <th>0</th>\n",
       "    </tr>\n",
       "  </thead>\n",
       "  <tbody>\n",
       "    <tr>\n",
       "      <th>count</th>\n",
       "      <td>5.000000</td>\n",
       "    </tr>\n",
       "    <tr>\n",
       "      <th>mean</th>\n",
       "      <td>0.878380</td>\n",
       "    </tr>\n",
       "    <tr>\n",
       "      <th>std</th>\n",
       "      <td>0.006377</td>\n",
       "    </tr>\n",
       "    <tr>\n",
       "      <th>min</th>\n",
       "      <td>0.871711</td>\n",
       "    </tr>\n",
       "    <tr>\n",
       "      <th>25%</th>\n",
       "      <td>0.873927</td>\n",
       "    </tr>\n",
       "    <tr>\n",
       "      <th>50%</th>\n",
       "      <td>0.878126</td>\n",
       "    </tr>\n",
       "    <tr>\n",
       "      <th>75%</th>\n",
       "      <td>0.879969</td>\n",
       "    </tr>\n",
       "    <tr>\n",
       "      <th>max</th>\n",
       "      <td>0.888167</td>\n",
       "    </tr>\n",
       "  </tbody>\n",
       "</table>\n",
       "</div>"
      ],
      "text/plain": [
       "              0\n",
       "count  5.000000\n",
       "mean   0.878380\n",
       "std    0.006377\n",
       "min    0.871711\n",
       "25%    0.873927\n",
       "50%    0.878126\n",
       "75%    0.879969\n",
       "max    0.888167"
      ]
     },
     "execution_count": 69,
     "metadata": {},
     "output_type": "execute_result"
    }
   ],
   "source": [
    "# XGB Classifier\n",
    "xgb = XGBClassifier()\n",
    "xgb.fit(X_b, y_b)\n",
    "y_pred_xgb = xgb.predict(X_b)\n",
    "roc_auc_score(y_b, y_pred_xgb)\n",
    "# xgb.feature_importances_\n",
    "# plot_importance(xgb)\n",
    "\n",
    "scores = cv_kaggle(xgb, X_b, y_b, cv=5, state=24)\n",
    "pd.DataFrame(scores).describe()"
   ]
  },
  {
   "cell_type": "markdown",
   "metadata": {},
   "source": [
    "It looks like we have a winner! With an auc_roc of about 87,8% the XBG Classifier looks the best model. Just like we did with the logit model we have optimized the parameters uzing a randomized grid search, but unfortunately without an improvement in performance."
   ]
  },
  {
   "cell_type": "markdown",
   "metadata": {},
   "source": [
    "## Final Predictions\n",
    "Now that we have estimated a model to predict income class, we are going to apply it on the test dataset for the kaggle competition. But first we need to load and preprocess the data before we can apply our model:"
   ]
  },
  {
   "cell_type": "code",
   "execution_count": 70,
   "metadata": {},
   "outputs": [
    {
     "name": "stderr",
     "output_type": "stream",
     "text": [
      "c:\\users\\jjlam\\documents\\1_projects\\pycharm\\mlc\\venv\\lib\\site-packages\\sklearn\\compose\\_column_transformer.py:427: FutureWarning: Given feature/column names or counts do not match the ones for the data given during fit. This will fail from v0.24.\n",
      "  warnings.warn(\"Given feature/column names or counts do not match \"\n"
     ]
    }
   ],
   "source": [
    "kaggle_test = pd.read_csv('ml-challenge-week6/census-income.test',\n",
    "                          sep=' *, *',\n",
    "                          header=None,\n",
    "                          na_values=['?', 'Do not know'],\n",
    "                          engine='python',\n",
    "                          names=colnames[0:-1]\n",
    "                          )\n",
    "\n",
    "kaggle_clean = kaggle_test.drop(columns=drop_columns)\n",
    "kaggle_clean = fill_na_cats(kaggle_clean)\n",
    "kaggle_clean = group_cats(kaggle_clean)\n",
    "kaggle_clean = pd.DataFrame(full_pipeline.transform(kaggle_clean))\n",
    "kaggle_clean = kaggle_clean.drop(columns=drop)\n"
   ]
  },
  {
   "cell_type": "markdown",
   "metadata": {},
   "source": [
    "We thank sklearn for the warning, but in this case it's okay!\n",
    "Now, before we can make our predictions, I noticed some sort of \"bug\" in XGBClassifier. Apperently this model object saves numerical columns as strings with additional whitespaces. So we get an error if we predict with new data. We solve this by manually renaming the feature names:"
   ]
  },
  {
   "cell_type": "code",
   "execution_count": 71,
   "metadata": {},
   "outputs": [],
   "source": [
    "feature_names = [i.strip() for i in xgb.get_booster().feature_names]\n",
    "xgb.get_booster().feature_names = feature_names"
   ]
  },
  {
   "cell_type": "markdown",
   "metadata": {},
   "source": [
    "Now we can make our final predictions and submit them to kaggle!"
   ]
  },
  {
   "cell_type": "code",
   "execution_count": 73,
   "metadata": {},
   "outputs": [],
   "source": [
    "kaggle_pred = xgb.predict(kaggle_clean)\n",
    "kaggle_test['income class'] = np.round(kaggle_pred)\n",
    "submission = kaggle_test['income class']\n",
    "submission.to_csv('submission.csv', sep=',', index_label='index')\n",
    "\n",
    "# Submission done locally via pc\n",
    "# os.system('kaggle competitions submit -c ml-challenge-week6 -f W6/submission.csv -m \"XGB\"')"
   ]
  },
  {
   "cell_type": "markdown",
   "metadata": {},
   "source": [
    "## Final words\n",
    "\n",
    "Unfortunately, this submission marks the end of the Machine Learning Challenge. During the last 6 weeks I definitely learned a lot and I am greatful that this course was made available by ING. I really liked the organisation and structure of the course, so many thanks to the organisers!!!\n",
    "\n",
    "Stay healty and keep coding!"
   ]
  },
  {
   "cell_type": "code",
   "execution_count": null,
   "metadata": {},
   "outputs": [],
   "source": []
  }
 ],
 "metadata": {
  "kernelspec": {
   "display_name": "Python 3",
   "language": "python",
   "name": "python3"
  },
  "language_info": {
   "codemirror_mode": {
    "name": "ipython",
    "version": 3
   },
   "file_extension": ".py",
   "mimetype": "text/x-python",
   "name": "python",
   "nbconvert_exporter": "python",
   "pygments_lexer": "ipython3",
   "version": "3.8.1"
  }
 },
 "nbformat": 4,
 "nbformat_minor": 4
}
