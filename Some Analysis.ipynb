{
 "cells": [
  {
   "cell_type": "code",
   "execution_count": 1,
   "metadata": {},
   "outputs": [],
   "source": [
    "import numpy as np\n",
    "import matplotlib.pyplot as plt\n",
    "import os\n",
    "import pandas as pd\n",
    "import definitions"
   ]
  },
  {
   "cell_type": "code",
   "execution_count": 2,
   "metadata": {},
   "outputs": [
    {
     "data": {
      "image/png": "[encoded data removed]",
      "text/plain": [
       "<Figure size 432x288 with 1 Axes>"
      ]
     },
     "metadata": {
      "needs_background": "light"
     },
     "output_type": "display_data"
    }
   ],
   "source": [
    "x = [1, 2, 3, 4, 5]\n",
    "y = [23, 25, 23, 48, 33]\n",
    "plt.plot(x, y)\n",
    "plt.scatter(x, y)\n",
    "plt.xscale(\"log\")\n",
    "\n",
    "c = [1, 1, 2, 4, 5, 6, 3, 7, 6, 8, 1, 3, 7, 4]\n",
    "plt.hist(c, bins=5)\n",
    "x_lab = 'X label'\n",
    "y_lab = 'Y label'\n",
    "title = 'This is the title of my chart'\n",
    "\n",
    "# Add axis labels\n",
    "plt.xlabel(x_lab)\n",
    "plt.ylabel(y_lab)\n",
    "plt.title(title)\n",
    "plt.yticks([0, 1, 2], [\"one\", \"two\", \"three\"])\n",
    "\n",
    "\n",
    "plt.scatter(x=x,\n",
    "            y=y,\n",
    "            s=np.array(x)*50,\n",
    "            alpha=0.8)\n",
    "plt.grid(True)"
   ]
  },
  {
   "cell_type": "code",
   "execution_count": 3,
   "metadata": {},
   "outputs": [
    {
     "data": {
      "image/png": "[encoded data removed]",
      "text/plain": [
       "<Figure size 432x288 with 1 Axes>"
      ]
     },
     "metadata": {
      "needs_background": "light"
     },
     "output_type": "display_data"
    }
   ],
   "source": [
    "x = [1, 2, 3, 4, 5]\n",
    "y = [23, 25, 23, 48, 33]\n",
    "plt.plot(x, y)\n",
    "plt.scatter(x, y)\n",
    "plt.xscale(\"log\")\n",
    "\n",
    "c = [1, 1, 2, 4, 5, 6, 3, 7, 6, 8, 1, 3, 7, 4]\n",
    "plt.hist(c, bins=5)\n",
    "x_lab = 'X label'\n",
    "y_lab = 'Y label'\n",
    "title = 'This is the title of my chart'\n",
    "\n",
    "# Add axis labels\n",
    "plt.xlabel(x_lab)\n",
    "plt.ylabel(y_lab)\n",
    "plt.title(title)\n",
    "plt.yticks([0, 1, 2], [\"one\", \"two\", \"three\"])\n",
    "\n",
    "\n",
    "plt.scatter(x=x,\n",
    "            y=y,\n",
    "            s=np.array(x)*50,\n",
    "            alpha=0.8)\n",
    "plt.grid(True)"
   ]
  },
  {
   "cell_type": "code",
   "execution_count": 6,
   "metadata": {},
   "outputs": [],
   "source": [
    "data_file = os.path.join(definitions.DATA_PATH, 'loans.csv')"
   ]
  },
  {
   "cell_type": "code",
   "execution_count": 5,
   "metadata": {},
   "outputs": [
    {
     "data": {
      "text/html": [
       "<div>\n",
       "<style scoped>\n",
       "    .dataframe tbody tr th:only-of-type {\n",
       "        vertical-align: middle;\n",
       "    }\n",
       "\n",
       "    .dataframe tbody tr th {\n",
       "        vertical-align: top;\n",
       "    }\n",
       "\n",
       "    .dataframe thead th {\n",
       "        text-align: right;\n",
       "    }\n",
       "</style>\n",
       "<table border=\"1\" class=\"dataframe\">\n",
       "  <thead>\n",
       "    <tr style=\"text-align: right;\">\n",
       "      <th></th>\n",
       "      <th>customer_id</th>\n",
       "      <th>Limit</th>\n",
       "      <th>Outstanding</th>\n",
       "      <th>Arrears</th>\n",
       "      <th>PD</th>\n",
       "      <th>EAD</th>\n",
       "      <th>LGD</th>\n",
       "    </tr>\n",
       "  </thead>\n",
       "  <tbody>\n",
       "    <tr>\n",
       "      <th>0</th>\n",
       "      <td>1</td>\n",
       "      <td>5</td>\n",
       "      <td>12</td>\n",
       "      <td>0</td>\n",
       "      <td>0</td>\n",
       "      <td>0</td>\n",
       "      <td>0</td>\n",
       "    </tr>\n",
       "    <tr>\n",
       "      <th>1</th>\n",
       "      <td>2</td>\n",
       "      <td>6</td>\n",
       "      <td>15</td>\n",
       "      <td>0</td>\n",
       "      <td>0</td>\n",
       "      <td>0</td>\n",
       "      <td>0</td>\n",
       "    </tr>\n",
       "    <tr>\n",
       "      <th>2</th>\n",
       "      <td>3</td>\n",
       "      <td>4</td>\n",
       "      <td>13</td>\n",
       "      <td>0</td>\n",
       "      <td>0</td>\n",
       "      <td>0</td>\n",
       "      <td>0</td>\n",
       "    </tr>\n",
       "    <tr>\n",
       "      <th>3</th>\n",
       "      <td>4</td>\n",
       "      <td>5</td>\n",
       "      <td>15</td>\n",
       "      <td>0</td>\n",
       "      <td>0</td>\n",
       "      <td>0</td>\n",
       "      <td>0</td>\n",
       "    </tr>\n",
       "    <tr>\n",
       "      <th>4</th>\n",
       "      <td>5</td>\n",
       "      <td>4</td>\n",
       "      <td>34</td>\n",
       "      <td>0</td>\n",
       "      <td>0</td>\n",
       "      <td>0</td>\n",
       "      <td>0</td>\n",
       "    </tr>\n",
       "  </tbody>\n",
       "</table>\n",
       "</div>"
      ],
      "text/plain": [
       "   customer_id  Limit  Outstanding  Arrears  PD  EAD  LGD\n",
       "0            1      5           12        0   0    0    0\n",
       "1            2      6           15        0   0    0    0\n",
       "2            3      4           13        0   0    0    0\n",
       "3            4      5           15        0   0    0    0\n",
       "4            5      4           34        0   0    0    0"
      ]
     },
     "execution_count": 5,
     "metadata": {},
     "output_type": "execute_result"
    }
   ],
   "source": [
    "pd_data = pd.read_csv(data_file, sep=';')\n",
    "# other options:\n",
    "#   usecols = cols\n",
    "#   na_values = ['..']\n",
    "#   header = 3\n",
    "#   comment = '#'\n",
    "\n",
    "pd_data.head()"
   ]
  },
  {
   "cell_type": "code",
   "execution_count": null,
   "metadata": {},
   "outputs": [],
   "source": []
  }
 ],
 "metadata": {
  "kernelspec": {
   "display_name": "Python 3",
   "language": "python",
   "name": "python3"
  },
  "language_info": {
   "codemirror_mode": {
    "name": "ipython",
    "version": 3
   },
   "file_extension": ".py",
   "mimetype": "text/x-python",
   "name": "python",
   "nbconvert_exporter": "python",
   "pygments_lexer": "ipython3",
   "version": "3.8.1"
  }
 },
 "nbformat": 4,
 "nbformat_minor": 4
}
